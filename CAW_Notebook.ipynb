{
 "cells": [
  {
   "cell_type": "markdown",
   "metadata": {},
   "source": [
    "## Exploratory Data Analysis of Crimes Against Women - DataSet Between 2001-2012"
   ]
  },
  {
   "cell_type": "markdown",
   "metadata": {},
   "source": [
    "## Table of Contents\n",
    "\n",
    "1. [Problem Statement](#section1)<br/>\n",
    "2. [Data Loading and Dataset Description](#section2)\n",
    "3. [Importing necessary Packages and Dataset](#section3)\n",
    "4. [Data Profiling](#section4)\n",
    "    - 4.1 [Understanding the Dataset](#section41)<br/>\n",
    "    - 4.2 [Pre Profiling](#section42)<br/>\n",
    "    - 4.3 [Pre Processing](#section43)<br/>\n",
    "    - 4.4 [Post Profiling](#section44)<br/>\n",
    "5. [Questions](#section5)\n",
    "    - 5.01 [How many States/Union Territories and Districts we have in our dataset?](#section501)\n",
    "    - 5.02 [Total Crime count in Each State](#section502)<br/>\n",
    "    - 5.03 [Total Crimes in each State Plot](#section503)<br/>\n",
    "    - 5.04 [Top 20 total crimes in each District](#section504)<br/>\n",
    "    - 5.05 [Top 20 total crimes in each District Plot](#section505)<br/>\n",
    "    - 5.06 [Total Crime Trend Between 2001 and 2012](#section506)<br/>\n",
    "    - 5.07 [Total Crime Trend Between 2001 and 2012 Plot](#section507)<br/>\n",
    "    - 5.08 [Max Crime for a State and the Year](#section508)<br/>\n",
    "    - 5.09 [Max Crime for a State and the Year Plot](#section509)<br/>\n",
    "    - 5.10 [Top 10 Crime Count per District and the Year](#section510)<br/>\n",
    "    - 5.11 [Top 10 Crime Count per District and the Year Plot](#section511)<br/>\n",
    "    - 5.12 [100 Districts with Lowest Crimes](#section512)<br/>\n",
    "    - 5.13 [100 Districts with Lowest Crimes Plot](#section513)<br/>\n",
    "    - 5.14 [Total Crimes State and Year-wise](#section514)<br/>\n",
    "    - 5.15 [Total Crimes by State and Year-wise Plot](#section515)<br/>\n",
    "    - 5.16 [Types of Crimes Year wise](#section516)<br/>\n",
    "    - 5.17 [Types of Crimes Year wise Plot](#section517)<br/>\n",
    "    - 5.18 [Types of Crimes Year wise HeatMap](#section518)<br/>\n",
    "    - 5.19 [Types of Crimes State wise](#section519)<br/>\n",
    "    - 5.20 [Types of Crimes State-wise Plot](#section520)\n",
    "    - 5.21 [Types of Crimes State-wise HeatMap](#section521)<br/>\n",
    "    - 5.22 [Types of Crimes District-wise](#section522)<br/>\n",
    "    - 5.23 [Types of Crimes District wise Plot](#section523)<br/>\n",
    "    - 5.24 [Types of Crimes District-wise HeatMap](#section524)<br/>\n",
    "    - 5.25 [Top 30 Max and Min Crimes Count for Year per State and District](#section525)\n",
    "    - 5.26 [Top 30 Max and Min Crimes Count for Year per State and District Plot](#section526)\n",
    "6. [Conclusion](#section6)\n"
   ]
  },
  {
   "cell_type": "markdown",
   "metadata": {},
   "source": [
    "### 1. Problem Statement <a class=\"anchor\" id=\"section1\"></a>"
   ]
  },
  {
   "cell_type": "markdown",
   "metadata": {},
   "source": [
    "This notebook focuses on __Exploratory Data Analysis(EDA)__ of __CAW(Crimes Against Women between 2001 and 2012)__ Data Set to derive meaningful insights from data, which includes __cleaning__, __reshaping__,__slicing__,__manipulating__ and __transforming__ the data.\n",
    "\n",
    "* __Exploratory Data Analysis__ <br/>\n",
    "EDA refers to critical process of performing initial investigation on data, we will have a closer look of CAW data to resolve data ambiguities by doing below :\n",
    "    - Finding Patterns in Data\n",
    "    - Checking Assumptions\n",
    "    - Handling missing Values if any\n",
    "    - Determining Relationship between Variables in Data"
   ]
  },
  {
   "cell_type": "markdown",
   "metadata": {},
   "source": [
    "### 2. Data Loading and Dataset description <a class=\"anchor\" id=\"section2\"></a>\n",
    "<img src=\"https://www.newsclick.in/sites/default/files/2017-12/Crimes%20Against%20Women.jpg\">\n"
   ]
  },
  {
   "cell_type": "markdown",
   "metadata": {},
   "source": [
    "- The data set consists of information about __Crimes against Women__ between 2001-2012. Various variables present in the dataset include data for State,Year,District,,city,date,team,umpires etc.\n",
    "- The data set consist of __9017 observtions from 10 columns__."
   ]
  },
  {
   "cell_type": "markdown",
   "metadata": {},
   "source": [
    "### Some Insights \n",
    "\n",
    "The history of __violence against women__ remains vague in scientific literature. This is in part because many kinds of __violence against women (specifically rape, sexual assault, and domestic violence) are under-reported, often due to societal norms, taboos, stigma, and the sensitive nature of the subject__.It is widely recognized that even today, a lack of reliable and continuous data is an obstacle to forming a clear picture of violence against women.In this EDA we try to get some insights from the data available between 2001 and 2012 and find out the patterns in the data."
   ]
  },
  {
   "cell_type": "markdown",
   "metadata": {},
   "source": [
    "### 3. Importing necessary Packages <a class=\"anchor\" id=\"section3\"></a>"
   ]
  },
  {
   "cell_type": "markdown",
   "metadata": {},
   "source": [
    "#### Importing packages"
   ]
  },
  {
   "cell_type": "code",
   "execution_count": 1,
   "metadata": {},
   "outputs": [],
   "source": [
    "import numpy as np                                                 \n",
    "import pandas as pd                                                \n",
    "import pandas_profiling as pp\n",
    "import matplotlib.pyplot as plt                                    \n",
    "import seaborn as sns \n",
    "%matplotlib inline\n",
    "import warnings\n",
    "warnings.filterwarnings(\"ignore\")"
   ]
  },
  {
   "cell_type": "markdown",
   "metadata": {},
   "source": [
    "### Importing the Dataset"
   ]
  },
  {
   "cell_type": "code",
   "execution_count": 2,
   "metadata": {},
   "outputs": [],
   "source": [
    "CAW_df = pd.read_csv('https://raw.githubusercontent.com/adityavgp/X/DataSet/CAW_2001_2012.csv')"
   ]
  },
  {
   "cell_type": "markdown",
   "metadata": {},
   "source": [
    "### 4. Data Profiling <a class=\"anchor\" id=\"section4\"></a>"
   ]
  },
  {
   "cell_type": "markdown",
   "metadata": {},
   "source": [
    "- In this sections we will understand our dataset.\n",
    "- With the help of __pandas profiling__ we will find which columns of our dataset need preprocessing.\n",
    "- In __preprocessing__ we will deal with erronous and missing values of columns. \n",
    "- Again we will do __pandas profiling__ to see how preprocessing have transformed our dataset."
   ]
  },
  {
   "cell_type": "markdown",
   "metadata": {},
   "source": [
    "### 4.1 Understanding the dataset <a class=\"anchor\" id=\"section41\"></a>"
   ]
  },
  {
   "cell_type": "markdown",
   "metadata": {},
   "source": [
    "We will get some insights of data and investigate it cautiously in this section, we will observe the data of few rows from the dataset."
   ]
  },
  {
   "cell_type": "code",
   "execution_count": 3,
   "metadata": {},
   "outputs": [
    {
     "data": {
      "text/plain": [
       "(9017, 10)"
      ]
     },
     "execution_count": 3,
     "metadata": {},
     "output_type": "execute_result"
    }
   ],
   "source": [
    "CAW_df.shape #Checking Number of Rows and Columns present in Dataset"
   ]
  },
  {
   "cell_type": "markdown",
   "metadata": {},
   "source": [
    "__CAW(Crimes Against Women)__ Dataset contains __9017 rows and 10 columns__."
   ]
  },
  {
   "cell_type": "code",
   "execution_count": 4,
   "metadata": {},
   "outputs": [
    {
     "data": {
      "text/plain": [
       "Index(['STATE/UT', 'DISTRICT', 'Year', 'Rape', 'Kidnapping and Abduction',\n",
       "       'Dowry Deaths', 'Assault on women with intent to outrage her modesty',\n",
       "       'Insult to modesty of Women', 'Cruelty by Husband or his Relatives',\n",
       "       'Importation of Girls'],\n",
       "      dtype='object')"
      ]
     },
     "execution_count": 4,
     "metadata": {},
     "output_type": "execute_result"
    }
   ],
   "source": [
    "CAW_df.columns"
   ]
  },
  {
   "cell_type": "markdown",
   "metadata": {},
   "source": [
    "So there are 10 columns in the Dataset\n",
    "- STATE/UT\n",
    "- DISTRICT \n",
    "- Year \n",
    "- Rape\n",
    "- Kidnapping and Abduction      \n",
    "- Dowry Deaths \n",
    "- Assault on women with intent to outrage her modesty    \n",
    "- Insult to modesty of Women \n",
    "- Cruelty by Husband or his Relatives\n",
    "- Importation of Girls"
   ]
  },
  {
   "cell_type": "code",
   "execution_count": 5,
   "metadata": {},
   "outputs": [
    {
     "name": "stdout",
     "output_type": "stream",
     "text": [
      "<class 'pandas.core.frame.DataFrame'>\n",
      "RangeIndex: 9017 entries, 0 to 9016\n",
      "Data columns (total 10 columns):\n",
      "STATE/UT                                               9017 non-null object\n",
      "DISTRICT                                               9017 non-null object\n",
      "Year                                                   9017 non-null int64\n",
      "Rape                                                   9017 non-null int64\n",
      "Kidnapping and Abduction                               9017 non-null int64\n",
      "Dowry Deaths                                           9017 non-null int64\n",
      "Assault on women with intent to outrage her modesty    9017 non-null int64\n",
      "Insult to modesty of Women                             9017 non-null int64\n",
      "Cruelty by Husband or his Relatives                    9017 non-null int64\n",
      "Importation of Girls                                   9017 non-null int64\n",
      "dtypes: int64(8), object(2)\n",
      "memory usage: 704.5+ KB\n"
     ]
    }
   ],
   "source": [
    "CAW_df.info()"
   ]
  },
  {
   "cell_type": "markdown",
   "metadata": {},
   "source": [
    "We are checking __data type__ of each column above."
   ]
  },
  {
   "cell_type": "code",
   "execution_count": 6,
   "metadata": {},
   "outputs": [
    {
     "data": {
      "text/html": [
       "<div>\n",
       "<style scoped>\n",
       "    .dataframe tbody tr th:only-of-type {\n",
       "        vertical-align: middle;\n",
       "    }\n",
       "\n",
       "    .dataframe tbody tr th {\n",
       "        vertical-align: top;\n",
       "    }\n",
       "\n",
       "    .dataframe thead th {\n",
       "        text-align: right;\n",
       "    }\n",
       "</style>\n",
       "<table border=\"1\" class=\"dataframe\">\n",
       "  <thead>\n",
       "    <tr style=\"text-align: right;\">\n",
       "      <th></th>\n",
       "      <th>STATE/UT</th>\n",
       "      <th>DISTRICT</th>\n",
       "      <th>Year</th>\n",
       "      <th>Rape</th>\n",
       "      <th>Kidnapping and Abduction</th>\n",
       "      <th>Dowry Deaths</th>\n",
       "      <th>Assault on women with intent to outrage her modesty</th>\n",
       "      <th>Insult to modesty of Women</th>\n",
       "      <th>Cruelty by Husband or his Relatives</th>\n",
       "      <th>Importation of Girls</th>\n",
       "    </tr>\n",
       "  </thead>\n",
       "  <tbody>\n",
       "    <tr>\n",
       "      <th>0</th>\n",
       "      <td>ANDHRA PRADESH</td>\n",
       "      <td>ADILABAD</td>\n",
       "      <td>2001</td>\n",
       "      <td>50</td>\n",
       "      <td>30</td>\n",
       "      <td>16</td>\n",
       "      <td>149</td>\n",
       "      <td>34</td>\n",
       "      <td>175</td>\n",
       "      <td>0</td>\n",
       "    </tr>\n",
       "    <tr>\n",
       "      <th>1</th>\n",
       "      <td>ANDHRA PRADESH</td>\n",
       "      <td>ANANTAPUR</td>\n",
       "      <td>2001</td>\n",
       "      <td>23</td>\n",
       "      <td>30</td>\n",
       "      <td>7</td>\n",
       "      <td>118</td>\n",
       "      <td>24</td>\n",
       "      <td>154</td>\n",
       "      <td>0</td>\n",
       "    </tr>\n",
       "    <tr>\n",
       "      <th>2</th>\n",
       "      <td>ANDHRA PRADESH</td>\n",
       "      <td>CHITTOOR</td>\n",
       "      <td>2001</td>\n",
       "      <td>27</td>\n",
       "      <td>34</td>\n",
       "      <td>14</td>\n",
       "      <td>112</td>\n",
       "      <td>83</td>\n",
       "      <td>186</td>\n",
       "      <td>0</td>\n",
       "    </tr>\n",
       "    <tr>\n",
       "      <th>3</th>\n",
       "      <td>ANDHRA PRADESH</td>\n",
       "      <td>CUDDAPAH</td>\n",
       "      <td>2001</td>\n",
       "      <td>20</td>\n",
       "      <td>20</td>\n",
       "      <td>17</td>\n",
       "      <td>126</td>\n",
       "      <td>38</td>\n",
       "      <td>57</td>\n",
       "      <td>0</td>\n",
       "    </tr>\n",
       "    <tr>\n",
       "      <th>4</th>\n",
       "      <td>ANDHRA PRADESH</td>\n",
       "      <td>EAST GODAVARI</td>\n",
       "      <td>2001</td>\n",
       "      <td>23</td>\n",
       "      <td>26</td>\n",
       "      <td>12</td>\n",
       "      <td>109</td>\n",
       "      <td>58</td>\n",
       "      <td>247</td>\n",
       "      <td>0</td>\n",
       "    </tr>\n",
       "  </tbody>\n",
       "</table>\n",
       "</div>"
      ],
      "text/plain": [
       "         STATE/UT       DISTRICT  Year  Rape  Kidnapping and Abduction  \\\n",
       "0  ANDHRA PRADESH       ADILABAD  2001    50                        30   \n",
       "1  ANDHRA PRADESH      ANANTAPUR  2001    23                        30   \n",
       "2  ANDHRA PRADESH       CHITTOOR  2001    27                        34   \n",
       "3  ANDHRA PRADESH       CUDDAPAH  2001    20                        20   \n",
       "4  ANDHRA PRADESH  EAST GODAVARI  2001    23                        26   \n",
       "\n",
       "   Dowry Deaths  Assault on women with intent to outrage her modesty  \\\n",
       "0            16                                                149     \n",
       "1             7                                                118     \n",
       "2            14                                                112     \n",
       "3            17                                                126     \n",
       "4            12                                                109     \n",
       "\n",
       "   Insult to modesty of Women  Cruelty by Husband or his Relatives  \\\n",
       "0                          34                                  175   \n",
       "1                          24                                  154   \n",
       "2                          83                                  186   \n",
       "3                          38                                   57   \n",
       "4                          58                                  247   \n",
       "\n",
       "   Importation of Girls  \n",
       "0                     0  \n",
       "1                     0  \n",
       "2                     0  \n",
       "3                     0  \n",
       "4                     0  "
      ]
     },
     "execution_count": 6,
     "metadata": {},
     "output_type": "execute_result"
    }
   ],
   "source": [
    "CAW_df.head() "
   ]
  },
  {
   "cell_type": "code",
   "execution_count": 7,
   "metadata": {},
   "outputs": [
    {
     "data": {
      "text/html": [
       "<div>\n",
       "<style scoped>\n",
       "    .dataframe tbody tr th:only-of-type {\n",
       "        vertical-align: middle;\n",
       "    }\n",
       "\n",
       "    .dataframe tbody tr th {\n",
       "        vertical-align: top;\n",
       "    }\n",
       "\n",
       "    .dataframe thead th {\n",
       "        text-align: right;\n",
       "    }\n",
       "</style>\n",
       "<table border=\"1\" class=\"dataframe\">\n",
       "  <thead>\n",
       "    <tr style=\"text-align: right;\">\n",
       "      <th></th>\n",
       "      <th>STATE/UT</th>\n",
       "      <th>DISTRICT</th>\n",
       "      <th>Year</th>\n",
       "      <th>Rape</th>\n",
       "      <th>Kidnapping and Abduction</th>\n",
       "      <th>Dowry Deaths</th>\n",
       "      <th>Assault on women with intent to outrage her modesty</th>\n",
       "      <th>Insult to modesty of Women</th>\n",
       "      <th>Cruelty by Husband or his Relatives</th>\n",
       "      <th>Importation of Girls</th>\n",
       "    </tr>\n",
       "  </thead>\n",
       "  <tbody>\n",
       "    <tr>\n",
       "      <th>9012</th>\n",
       "      <td>LAKSHADWEEP</td>\n",
       "      <td>LAKSHADWEEP</td>\n",
       "      <td>2012</td>\n",
       "      <td>0</td>\n",
       "      <td>0</td>\n",
       "      <td>0</td>\n",
       "      <td>1</td>\n",
       "      <td>0</td>\n",
       "      <td>1</td>\n",
       "      <td>0</td>\n",
       "    </tr>\n",
       "    <tr>\n",
       "      <th>9013</th>\n",
       "      <td>LAKSHADWEEP</td>\n",
       "      <td>TOTAL</td>\n",
       "      <td>2012</td>\n",
       "      <td>0</td>\n",
       "      <td>0</td>\n",
       "      <td>0</td>\n",
       "      <td>1</td>\n",
       "      <td>0</td>\n",
       "      <td>1</td>\n",
       "      <td>0</td>\n",
       "    </tr>\n",
       "    <tr>\n",
       "      <th>9014</th>\n",
       "      <td>PUDUCHERRY</td>\n",
       "      <td>KARAIKAL</td>\n",
       "      <td>2012</td>\n",
       "      <td>6</td>\n",
       "      <td>2</td>\n",
       "      <td>0</td>\n",
       "      <td>2</td>\n",
       "      <td>0</td>\n",
       "      <td>1</td>\n",
       "      <td>0</td>\n",
       "    </tr>\n",
       "    <tr>\n",
       "      <th>9015</th>\n",
       "      <td>PUDUCHERRY</td>\n",
       "      <td>PUDUCHERRY</td>\n",
       "      <td>2012</td>\n",
       "      <td>7</td>\n",
       "      <td>14</td>\n",
       "      <td>0</td>\n",
       "      <td>7</td>\n",
       "      <td>2</td>\n",
       "      <td>5</td>\n",
       "      <td>0</td>\n",
       "    </tr>\n",
       "    <tr>\n",
       "      <th>9016</th>\n",
       "      <td>PUDUCHERRY</td>\n",
       "      <td>TOTAL</td>\n",
       "      <td>2012</td>\n",
       "      <td>13</td>\n",
       "      <td>16</td>\n",
       "      <td>0</td>\n",
       "      <td>9</td>\n",
       "      <td>2</td>\n",
       "      <td>6</td>\n",
       "      <td>0</td>\n",
       "    </tr>\n",
       "  </tbody>\n",
       "</table>\n",
       "</div>"
      ],
      "text/plain": [
       "         STATE/UT     DISTRICT  Year  Rape  Kidnapping and Abduction  \\\n",
       "9012  LAKSHADWEEP  LAKSHADWEEP  2012     0                         0   \n",
       "9013  LAKSHADWEEP        TOTAL  2012     0                         0   \n",
       "9014   PUDUCHERRY     KARAIKAL  2012     6                         2   \n",
       "9015   PUDUCHERRY   PUDUCHERRY  2012     7                        14   \n",
       "9016   PUDUCHERRY        TOTAL  2012    13                        16   \n",
       "\n",
       "      Dowry Deaths  Assault on women with intent to outrage her modesty  \\\n",
       "9012             0                                                  1     \n",
       "9013             0                                                  1     \n",
       "9014             0                                                  2     \n",
       "9015             0                                                  7     \n",
       "9016             0                                                  9     \n",
       "\n",
       "      Insult to modesty of Women  Cruelty by Husband or his Relatives  \\\n",
       "9012                           0                                    1   \n",
       "9013                           0                                    1   \n",
       "9014                           0                                    1   \n",
       "9015                           2                                    5   \n",
       "9016                           2                                    6   \n",
       "\n",
       "      Importation of Girls  \n",
       "9012                     0  \n",
       "9013                     0  \n",
       "9014                     0  \n",
       "9015                     0  \n",
       "9016                     0  "
      ]
     },
     "execution_count": 7,
     "metadata": {},
     "output_type": "execute_result"
    }
   ],
   "source": [
    "CAW_df.tail()"
   ]
  },
  {
   "cell_type": "code",
   "execution_count": 8,
   "metadata": {},
   "outputs": [
    {
     "data": {
      "text/html": [
       "<div>\n",
       "<style scoped>\n",
       "    .dataframe tbody tr th:only-of-type {\n",
       "        vertical-align: middle;\n",
       "    }\n",
       "\n",
       "    .dataframe tbody tr th {\n",
       "        vertical-align: top;\n",
       "    }\n",
       "\n",
       "    .dataframe thead th {\n",
       "        text-align: right;\n",
       "    }\n",
       "</style>\n",
       "<table border=\"1\" class=\"dataframe\">\n",
       "  <thead>\n",
       "    <tr style=\"text-align: right;\">\n",
       "      <th></th>\n",
       "      <th>Year</th>\n",
       "      <th>Rape</th>\n",
       "      <th>Kidnapping and Abduction</th>\n",
       "      <th>Dowry Deaths</th>\n",
       "      <th>Assault on women with intent to outrage her modesty</th>\n",
       "      <th>Insult to modesty of Women</th>\n",
       "      <th>Cruelty by Husband or his Relatives</th>\n",
       "      <th>Importation of Girls</th>\n",
       "    </tr>\n",
       "  </thead>\n",
       "  <tbody>\n",
       "    <tr>\n",
       "      <th>count</th>\n",
       "      <td>9017.000000</td>\n",
       "      <td>9017.000000</td>\n",
       "      <td>9017.000000</td>\n",
       "      <td>9017.000000</td>\n",
       "      <td>9017.000000</td>\n",
       "      <td>9017.000000</td>\n",
       "      <td>9017.000000</td>\n",
       "      <td>9017.000000</td>\n",
       "    </tr>\n",
       "    <tr>\n",
       "      <th>mean</th>\n",
       "      <td>2006.629034</td>\n",
       "      <td>53.041366</td>\n",
       "      <td>58.535433</td>\n",
       "      <td>20.228901</td>\n",
       "      <td>100.511257</td>\n",
       "      <td>27.515582</td>\n",
       "      <td>194.122435</td>\n",
       "      <td>0.197849</td>\n",
       "    </tr>\n",
       "    <tr>\n",
       "      <th>std</th>\n",
       "      <td>3.463623</td>\n",
       "      <td>190.741450</td>\n",
       "      <td>246.937464</td>\n",
       "      <td>96.970466</td>\n",
       "      <td>394.059436</td>\n",
       "      <td>167.237522</td>\n",
       "      <td>831.986594</td>\n",
       "      <td>2.415039</td>\n",
       "    </tr>\n",
       "    <tr>\n",
       "      <th>min</th>\n",
       "      <td>2001.000000</td>\n",
       "      <td>0.000000</td>\n",
       "      <td>0.000000</td>\n",
       "      <td>0.000000</td>\n",
       "      <td>0.000000</td>\n",
       "      <td>0.000000</td>\n",
       "      <td>0.000000</td>\n",
       "      <td>0.000000</td>\n",
       "    </tr>\n",
       "    <tr>\n",
       "      <th>25%</th>\n",
       "      <td>2004.000000</td>\n",
       "      <td>8.000000</td>\n",
       "      <td>6.000000</td>\n",
       "      <td>1.000000</td>\n",
       "      <td>10.000000</td>\n",
       "      <td>0.000000</td>\n",
       "      <td>11.000000</td>\n",
       "      <td>0.000000</td>\n",
       "    </tr>\n",
       "    <tr>\n",
       "      <th>50%</th>\n",
       "      <td>2007.000000</td>\n",
       "      <td>20.000000</td>\n",
       "      <td>18.000000</td>\n",
       "      <td>5.000000</td>\n",
       "      <td>31.000000</td>\n",
       "      <td>2.000000</td>\n",
       "      <td>47.000000</td>\n",
       "      <td>0.000000</td>\n",
       "    </tr>\n",
       "    <tr>\n",
       "      <th>75%</th>\n",
       "      <td>2010.000000</td>\n",
       "      <td>41.000000</td>\n",
       "      <td>42.000000</td>\n",
       "      <td>16.000000</td>\n",
       "      <td>76.000000</td>\n",
       "      <td>13.000000</td>\n",
       "      <td>135.000000</td>\n",
       "      <td>0.000000</td>\n",
       "    </tr>\n",
       "    <tr>\n",
       "      <th>max</th>\n",
       "      <td>2012.000000</td>\n",
       "      <td>3425.000000</td>\n",
       "      <td>7910.000000</td>\n",
       "      <td>2322.000000</td>\n",
       "      <td>7118.000000</td>\n",
       "      <td>4970.000000</td>\n",
       "      <td>19865.000000</td>\n",
       "      <td>83.000000</td>\n",
       "    </tr>\n",
       "  </tbody>\n",
       "</table>\n",
       "</div>"
      ],
      "text/plain": [
       "              Year         Rape  Kidnapping and Abduction  Dowry Deaths  \\\n",
       "count  9017.000000  9017.000000               9017.000000   9017.000000   \n",
       "mean   2006.629034    53.041366                 58.535433     20.228901   \n",
       "std       3.463623   190.741450                246.937464     96.970466   \n",
       "min    2001.000000     0.000000                  0.000000      0.000000   \n",
       "25%    2004.000000     8.000000                  6.000000      1.000000   \n",
       "50%    2007.000000    20.000000                 18.000000      5.000000   \n",
       "75%    2010.000000    41.000000                 42.000000     16.000000   \n",
       "max    2012.000000  3425.000000               7910.000000   2322.000000   \n",
       "\n",
       "       Assault on women with intent to outrage her modesty  \\\n",
       "count                                        9017.000000     \n",
       "mean                                          100.511257     \n",
       "std                                           394.059436     \n",
       "min                                             0.000000     \n",
       "25%                                            10.000000     \n",
       "50%                                            31.000000     \n",
       "75%                                            76.000000     \n",
       "max                                          7118.000000     \n",
       "\n",
       "       Insult to modesty of Women  Cruelty by Husband or his Relatives  \\\n",
       "count                 9017.000000                          9017.000000   \n",
       "mean                    27.515582                           194.122435   \n",
       "std                    167.237522                           831.986594   \n",
       "min                      0.000000                             0.000000   \n",
       "25%                      0.000000                            11.000000   \n",
       "50%                      2.000000                            47.000000   \n",
       "75%                     13.000000                           135.000000   \n",
       "max                   4970.000000                         19865.000000   \n",
       "\n",
       "       Importation of Girls  \n",
       "count           9017.000000  \n",
       "mean               0.197849  \n",
       "std                2.415039  \n",
       "min                0.000000  \n",
       "25%                0.000000  \n",
       "50%                0.000000  \n",
       "75%                0.000000  \n",
       "max               83.000000  "
      ]
     },
     "execution_count": 8,
     "metadata": {},
     "output_type": "execute_result"
    }
   ],
   "source": [
    "CAW_df.describe()"
   ]
  },
  {
   "cell_type": "markdown",
   "metadata": {},
   "source": [
    "We are checking the __statstical information__ of columns having number data type as above."
   ]
  },
  {
   "cell_type": "code",
   "execution_count": 9,
   "metadata": {},
   "outputs": [
    {
     "data": {
      "text/plain": [
       "STATE/UT                                               0\n",
       "DISTRICT                                               0\n",
       "Year                                                   0\n",
       "Rape                                                   0\n",
       "Kidnapping and Abduction                               0\n",
       "Dowry Deaths                                           0\n",
       "Assault on women with intent to outrage her modesty    0\n",
       "Insult to modesty of Women                             0\n",
       "Cruelty by Husband or his Relatives                    0\n",
       "Importation of Girls                                   0\n",
       "dtype: int64"
      ]
     },
     "execution_count": 9,
     "metadata": {},
     "output_type": "execute_result"
    }
   ],
   "source": [
    "CAW_df.isnull().sum(axis = 0)"
   ]
  },
  {
   "cell_type": "markdown",
   "metadata": {},
   "source": [
    "From above we can see that most of the columns dont have null's so we are good to go"
   ]
  },
  {
   "cell_type": "markdown",
   "metadata": {},
   "source": [
    "### 4.2 Pre Profiling <a class = \"anchor\" id = \"section42\"></a>"
   ]
  },
  {
   "cell_type": "markdown",
   "metadata": {},
   "source": [
    "- Using pandas profiling, an __HTML report__ gets generated which contins all the information about the columns of the dataset, like the __counts and type__ of each _column_. Detailed information about each column, __correlation between different columns__ and a sample of dataset.<br/>\n",
    "- It gives us __visual interpretation__ of each column in the data.\n",
    "- _Spread of the data_ can be better understood by the distribution plot. \n",
    "- _Grannular level_ analysis of each column."
   ]
  },
  {
   "cell_type": "code",
   "execution_count": 10,
   "metadata": {},
   "outputs": [],
   "source": [
    "profile = pp.ProfileReport(CAW_df)\n",
    "profile.to_file(outputfile = \"CAW_Pre_Processing.html\")"
   ]
  },
  {
   "cell_type": "markdown",
   "metadata": {},
   "source": [
    "We have done before preprocessing through __Pandas Profiling__ on our dataset and named the html file as __CAW_Pre_Processing.html__. We will have a look at the report to better understand it and develop some useful insight from it. <br/>"
   ]
  },
  {
   "cell_type": "markdown",
   "metadata": {},
   "source": [
    "### 4.3 Pre Processing  <a class = \"anchor\" id = \"section43\"></a>"
   ]
  },
  {
   "cell_type": "markdown",
   "metadata": {},
   "source": [
    "- There are rows with pre-calculated totals\n",
    "- There are lots of rows where there are zeros for the total values."
   ]
  },
  {
   "cell_type": "code",
   "execution_count": 11,
   "metadata": {},
   "outputs": [],
   "source": [
    "CAW_df['Total_Crimes'] = CAW_df.iloc[:,3:].sum(axis=1)"
   ]
  },
  {
   "cell_type": "code",
   "execution_count": 12,
   "metadata": {},
   "outputs": [],
   "source": [
    "CAW_df.drop(CAW_df[CAW_df['DISTRICT'].str.contains('TOTAL')].index, inplace=True)"
   ]
  },
  {
   "cell_type": "code",
   "execution_count": 13,
   "metadata": {},
   "outputs": [],
   "source": [
    "CAW_df.drop(CAW_df[CAW_df['Total_Crimes'] == 0].index, inplace=True)"
   ]
  },
  {
   "cell_type": "markdown",
   "metadata": {},
   "source": [
    "### 4.4 Post Profiling <a class = \"anchor\" id = \"section44\"></a>"
   ]
  },
  {
   "cell_type": "code",
   "execution_count": 14,
   "metadata": {},
   "outputs": [],
   "source": [
    "profile = pp.ProfileReport(CAW_df)\n",
    "profile.to_file(outputfile=\"CAW_After_Processing.html\")"
   ]
  },
  {
   "cell_type": "markdown",
   "metadata": {},
   "source": [
    "- We have created a new column Total_Crimes to get an extra dimension in analysis.\n",
    "\n",
    "- We have also dropped data that contains total data which is not required.\n",
    "\n",
    "- We have also dropped data that contains mostly zeros."
   ]
  },
  {
   "cell_type": "markdown",
   "metadata": {},
   "source": [
    "### 5. Questions <a class = \"anchor\" id = \"section5\"></a>"
   ]
  },
  {
   "cell_type": "markdown",
   "metadata": {},
   "source": [
    "### 5.01 How many States/Union Territories and Districts we have in our dataset? <a class = \"anchor\" id = \"section501\"></a>"
   ]
  },
  {
   "cell_type": "code",
   "execution_count": 15,
   "metadata": {},
   "outputs": [
    {
     "name": "stdout",
     "output_type": "stream",
     "text": [
      "Total number of States/Union Territories in dataset are 35 \n"
     ]
    }
   ],
   "source": [
    "Total_States_UT = len(CAW_df['STATE/UT'].unique())\n",
    "print('Total number of States/Union Territories in dataset are {} '.format(Total_States_UT))"
   ]
  },
  {
   "cell_type": "code",
   "execution_count": 16,
   "metadata": {},
   "outputs": [
    {
     "name": "stdout",
     "output_type": "stream",
     "text": [
      "Total number of Districts in dataset are 798 \n"
     ]
    }
   ],
   "source": [
    "Total_Districts = len(CAW_df['DISTRICT'].unique())\n",
    "print('Total number of Districts in dataset are {} '.format(Total_Districts))"
   ]
  },
  {
   "cell_type": "markdown",
   "metadata": {},
   "source": [
    "### 5.02 Total Crime count in Each State<a class = \"anchor\" id = \"section502\"></a>"
   ]
  },
  {
   "cell_type": "code",
   "execution_count": 17,
   "metadata": {},
   "outputs": [
    {
     "data": {
      "text/html": [
       "<div>\n",
       "<style scoped>\n",
       "    .dataframe tbody tr th:only-of-type {\n",
       "        vertical-align: middle;\n",
       "    }\n",
       "\n",
       "    .dataframe tbody tr th {\n",
       "        vertical-align: top;\n",
       "    }\n",
       "\n",
       "    .dataframe thead th {\n",
       "        text-align: right;\n",
       "    }\n",
       "</style>\n",
       "<table border=\"1\" class=\"dataframe\">\n",
       "  <thead>\n",
       "    <tr style=\"text-align: right;\">\n",
       "      <th></th>\n",
       "      <th>STATE/UT</th>\n",
       "      <th>Total_Crimes</th>\n",
       "    </tr>\n",
       "  </thead>\n",
       "  <tbody>\n",
       "    <tr>\n",
       "      <th>0</th>\n",
       "      <td>A &amp; N ISLANDS</td>\n",
       "      <td>570</td>\n",
       "    </tr>\n",
       "    <tr>\n",
       "      <th>1</th>\n",
       "      <td>ANDHRA PRADESH</td>\n",
       "      <td>241784</td>\n",
       "    </tr>\n",
       "    <tr>\n",
       "      <th>2</th>\n",
       "      <td>ARUNACHAL PRADESH</td>\n",
       "      <td>2029</td>\n",
       "    </tr>\n",
       "    <tr>\n",
       "      <th>3</th>\n",
       "      <td>ASSAM</td>\n",
       "      <td>93502</td>\n",
       "    </tr>\n",
       "    <tr>\n",
       "      <th>4</th>\n",
       "      <td>BIHAR</td>\n",
       "      <td>79983</td>\n",
       "    </tr>\n",
       "    <tr>\n",
       "      <th>5</th>\n",
       "      <td>CHANDIGARH</td>\n",
       "      <td>2121</td>\n",
       "    </tr>\n",
       "    <tr>\n",
       "      <th>6</th>\n",
       "      <td>CHHATTISGARH</td>\n",
       "      <td>46078</td>\n",
       "    </tr>\n",
       "    <tr>\n",
       "      <th>7</th>\n",
       "      <td>D &amp; N HAVELI</td>\n",
       "      <td>243</td>\n",
       "    </tr>\n",
       "    <tr>\n",
       "      <th>8</th>\n",
       "      <td>DAMAN &amp; DIU</td>\n",
       "      <td>90</td>\n",
       "    </tr>\n",
       "    <tr>\n",
       "      <th>9</th>\n",
       "      <td>DELHI</td>\n",
       "      <td>48089</td>\n",
       "    </tr>\n",
       "    <tr>\n",
       "      <th>10</th>\n",
       "      <td>GOA</td>\n",
       "      <td>1175</td>\n",
       "    </tr>\n",
       "    <tr>\n",
       "      <th>11</th>\n",
       "      <td>GUJARAT</td>\n",
       "      <td>87463</td>\n",
       "    </tr>\n",
       "    <tr>\n",
       "      <th>12</th>\n",
       "      <td>HARYANA</td>\n",
       "      <td>56292</td>\n",
       "    </tr>\n",
       "    <tr>\n",
       "      <th>13</th>\n",
       "      <td>HIMACHAL PRADESH</td>\n",
       "      <td>10681</td>\n",
       "    </tr>\n",
       "    <tr>\n",
       "      <th>14</th>\n",
       "      <td>JAMMU &amp; KASHMIR</td>\n",
       "      <td>29067</td>\n",
       "    </tr>\n",
       "    <tr>\n",
       "      <th>15</th>\n",
       "      <td>JHARKHAND</td>\n",
       "      <td>30518</td>\n",
       "    </tr>\n",
       "    <tr>\n",
       "      <th>16</th>\n",
       "      <td>KARNATAKA</td>\n",
       "      <td>68036</td>\n",
       "    </tr>\n",
       "    <tr>\n",
       "      <th>17</th>\n",
       "      <td>KERALA</td>\n",
       "      <td>90514</td>\n",
       "    </tr>\n",
       "    <tr>\n",
       "      <th>18</th>\n",
       "      <td>LAKSHADWEEP</td>\n",
       "      <td>20</td>\n",
       "    </tr>\n",
       "    <tr>\n",
       "      <th>19</th>\n",
       "      <td>MADHYA PRADESH</td>\n",
       "      <td>183590</td>\n",
       "    </tr>\n",
       "    <tr>\n",
       "      <th>20</th>\n",
       "      <td>MAHARASHTRA</td>\n",
       "      <td>164782</td>\n",
       "    </tr>\n",
       "    <tr>\n",
       "      <th>21</th>\n",
       "      <td>MANIPUR</td>\n",
       "      <td>2172</td>\n",
       "    </tr>\n",
       "    <tr>\n",
       "      <th>22</th>\n",
       "      <td>MEGHALAYA</td>\n",
       "      <td>2008</td>\n",
       "    </tr>\n",
       "    <tr>\n",
       "      <th>23</th>\n",
       "      <td>MIZORAM</td>\n",
       "      <td>1719</td>\n",
       "    </tr>\n",
       "    <tr>\n",
       "      <th>24</th>\n",
       "      <td>NAGALAND</td>\n",
       "      <td>407</td>\n",
       "    </tr>\n",
       "    <tr>\n",
       "      <th>25</th>\n",
       "      <td>ODISHA</td>\n",
       "      <td>75876</td>\n",
       "    </tr>\n",
       "    <tr>\n",
       "      <th>26</th>\n",
       "      <td>PUDUCHERRY</td>\n",
       "      <td>1226</td>\n",
       "    </tr>\n",
       "    <tr>\n",
       "      <th>27</th>\n",
       "      <td>PUNJAB</td>\n",
       "      <td>29199</td>\n",
       "    </tr>\n",
       "    <tr>\n",
       "      <th>28</th>\n",
       "      <td>RAJASTHAN</td>\n",
       "      <td>176849</td>\n",
       "    </tr>\n",
       "    <tr>\n",
       "      <th>29</th>\n",
       "      <td>SIKKIM</td>\n",
       "      <td>547</td>\n",
       "    </tr>\n",
       "    <tr>\n",
       "      <th>30</th>\n",
       "      <td>TAMIL NADU</td>\n",
       "      <td>69280</td>\n",
       "    </tr>\n",
       "    <tr>\n",
       "      <th>31</th>\n",
       "      <td>TRIPURA</td>\n",
       "      <td>12573</td>\n",
       "    </tr>\n",
       "    <tr>\n",
       "      <th>32</th>\n",
       "      <td>UTTAR PRADESH</td>\n",
       "      <td>224301</td>\n",
       "    </tr>\n",
       "    <tr>\n",
       "      <th>33</th>\n",
       "      <td>UTTARAKHAND</td>\n",
       "      <td>11825</td>\n",
       "    </tr>\n",
       "    <tr>\n",
       "      <th>34</th>\n",
       "      <td>WEST BENGAL</td>\n",
       "      <td>202939</td>\n",
       "    </tr>\n",
       "  </tbody>\n",
       "</table>\n",
       "</div>"
      ],
      "text/plain": [
       "             STATE/UT  Total_Crimes\n",
       "0       A & N ISLANDS           570\n",
       "1      ANDHRA PRADESH        241784\n",
       "2   ARUNACHAL PRADESH          2029\n",
       "3               ASSAM         93502\n",
       "4               BIHAR         79983\n",
       "5          CHANDIGARH          2121\n",
       "6        CHHATTISGARH         46078\n",
       "7        D & N HAVELI           243\n",
       "8         DAMAN & DIU            90\n",
       "9               DELHI         48089\n",
       "10                GOA          1175\n",
       "11            GUJARAT         87463\n",
       "12            HARYANA         56292\n",
       "13   HIMACHAL PRADESH         10681\n",
       "14    JAMMU & KASHMIR         29067\n",
       "15          JHARKHAND         30518\n",
       "16          KARNATAKA         68036\n",
       "17             KERALA         90514\n",
       "18        LAKSHADWEEP            20\n",
       "19     MADHYA PRADESH        183590\n",
       "20        MAHARASHTRA        164782\n",
       "21            MANIPUR          2172\n",
       "22          MEGHALAYA          2008\n",
       "23            MIZORAM          1719\n",
       "24           NAGALAND           407\n",
       "25             ODISHA         75876\n",
       "26         PUDUCHERRY          1226\n",
       "27             PUNJAB         29199\n",
       "28          RAJASTHAN        176849\n",
       "29             SIKKIM           547\n",
       "30         TAMIL NADU         69280\n",
       "31            TRIPURA         12573\n",
       "32      UTTAR PRADESH        224301\n",
       "33        UTTARAKHAND         11825\n",
       "34        WEST BENGAL        202939"
      ]
     },
     "execution_count": 17,
     "metadata": {},
     "output_type": "execute_result"
    }
   ],
   "source": [
    "Total_Crimes_by_States_and_UT = pd.DataFrame(CAW_df.groupby(['STATE/UT'])['Total_Crimes'].sum()) \n",
    "Total_Crimes_by_States_and_UT = Total_Crimes_by_States_and_UT.reset_index()\n",
    "Total_Crimes_by_States_and_UT"
   ]
  },
  {
   "cell_type": "markdown",
   "metadata": {},
   "source": [
    "### 5.03 Total Crimes in each State Plot <a class = \"anchor\" id = \"section503\"></a>"
   ]
  },
  {
   "cell_type": "code",
   "execution_count": 18,
   "metadata": {},
   "outputs": [
    {
     "data": {
      "image/png": "[encoded data removed]",
      "text/plain": [
       "<Figure size 2000x2000 with 1 Axes>"
      ]
     },
     "metadata": {},
     "output_type": "display_data"
    }
   ],
   "source": [
    "Total_Crimes_by_States_and_UT = pd.DataFrame(CAW_df.groupby(['STATE/UT'])['Total_Crimes'].sum()) \n",
    "Total_Crimes_by_States_and_UT = Total_Crimes_by_States_and_UT.reset_index()\n",
    "plt.figure(figsize = (20,20))\n",
    "plt.scatter(Total_Crimes_by_States_and_UT['STATE/UT'],Total_Crimes_by_States_and_UT['Total_Crimes'],)\n",
    "plt.xticks(rotation = 90)\n",
    "labels = Total_Crimes_by_States_and_UT['STATE/UT']\n",
    "for i, v in enumerate(labels):\n",
    "    plt.axes().text(v,Total_Crimes_by_States_and_UT['Total_Crimes'][i]+9000, Total_Crimes_by_States_and_UT['Total_Crimes'][i], fontsize=12, rotation = 90)\n",
    "plt.title(s='Total Crimes In Each State')\n",
    "plt.show()"
   ]
  },
  {
   "cell_type": "markdown",
   "metadata": {},
   "source": [
    "From above we can see that the Highest Crimes against women occurred in __ANDHRA PRADESH between 2001 and 2012__."
   ]
  },
  {
   "cell_type": "markdown",
   "metadata": {},
   "source": [
    "From above we can see that the Lowest Crimes against women occur in __LAKSHADWEEP between 2001 and 2012__."
   ]
  },
  {
   "cell_type": "markdown",
   "metadata": {},
   "source": [
    "### 5.04 Top 20 Total Crimes in each District <a class = \"anchor\" id = \"section504\"></a>"
   ]
  },
  {
   "cell_type": "code",
   "execution_count": 19,
   "metadata": {},
   "outputs": [
    {
     "data": {
      "text/html": [
       "<div>\n",
       "<style scoped>\n",
       "    .dataframe tbody tr th:only-of-type {\n",
       "        vertical-align: middle;\n",
       "    }\n",
       "\n",
       "    .dataframe tbody tr th {\n",
       "        vertical-align: top;\n",
       "    }\n",
       "\n",
       "    .dataframe thead th {\n",
       "        text-align: right;\n",
       "    }\n",
       "</style>\n",
       "<table border=\"1\" class=\"dataframe\">\n",
       "  <thead>\n",
       "    <tr style=\"text-align: right;\">\n",
       "      <th></th>\n",
       "      <th>DISTRICT</th>\n",
       "      <th>Total_Crimes</th>\n",
       "    </tr>\n",
       "  </thead>\n",
       "  <tbody>\n",
       "    <tr>\n",
       "      <th>0</th>\n",
       "      <td>MURSHIDABAD</td>\n",
       "      <td>27004</td>\n",
       "    </tr>\n",
       "    <tr>\n",
       "      <th>1</th>\n",
       "      <td>24 PARGANAS SOUTH</td>\n",
       "      <td>25115</td>\n",
       "    </tr>\n",
       "    <tr>\n",
       "      <th>2</th>\n",
       "      <td>24 PARGANAS NORTH</td>\n",
       "      <td>24376</td>\n",
       "    </tr>\n",
       "    <tr>\n",
       "      <th>3</th>\n",
       "      <td>HYDERABAD CITY</td>\n",
       "      <td>19685</td>\n",
       "    </tr>\n",
       "    <tr>\n",
       "      <th>4</th>\n",
       "      <td>NADIA</td>\n",
       "      <td>17582</td>\n",
       "    </tr>\n",
       "    <tr>\n",
       "      <th>5</th>\n",
       "      <td>KARIMNAGAR</td>\n",
       "      <td>16110</td>\n",
       "    </tr>\n",
       "    <tr>\n",
       "      <th>6</th>\n",
       "      <td>CYBERABAD</td>\n",
       "      <td>15411</td>\n",
       "    </tr>\n",
       "    <tr>\n",
       "      <th>7</th>\n",
       "      <td>AHMEDABAD COMMR.</td>\n",
       "      <td>14973</td>\n",
       "    </tr>\n",
       "    <tr>\n",
       "      <th>8</th>\n",
       "      <td>WEST GODAVARI</td>\n",
       "      <td>14299</td>\n",
       "    </tr>\n",
       "    <tr>\n",
       "      <th>9</th>\n",
       "      <td>LUCKNOW</td>\n",
       "      <td>12679</td>\n",
       "    </tr>\n",
       "    <tr>\n",
       "      <th>10</th>\n",
       "      <td>GUNTUR</td>\n",
       "      <td>12390</td>\n",
       "    </tr>\n",
       "    <tr>\n",
       "      <th>11</th>\n",
       "      <td>JALPAIGURI</td>\n",
       "      <td>12073</td>\n",
       "    </tr>\n",
       "    <tr>\n",
       "      <th>12</th>\n",
       "      <td>WEST</td>\n",
       "      <td>10971</td>\n",
       "    </tr>\n",
       "    <tr>\n",
       "      <th>13</th>\n",
       "      <td>KANPUR NAGAR</td>\n",
       "      <td>10904</td>\n",
       "    </tr>\n",
       "    <tr>\n",
       "      <th>14</th>\n",
       "      <td>KRISHNA</td>\n",
       "      <td>10742</td>\n",
       "    </tr>\n",
       "    <tr>\n",
       "      <th>15</th>\n",
       "      <td>KHAMMAM</td>\n",
       "      <td>10518</td>\n",
       "    </tr>\n",
       "    <tr>\n",
       "      <th>16</th>\n",
       "      <td>INDORE</td>\n",
       "      <td>10392</td>\n",
       "    </tr>\n",
       "    <tr>\n",
       "      <th>17</th>\n",
       "      <td>NAGAON</td>\n",
       "      <td>10191</td>\n",
       "    </tr>\n",
       "    <tr>\n",
       "      <th>18</th>\n",
       "      <td>KURNOOL</td>\n",
       "      <td>9850</td>\n",
       "    </tr>\n",
       "    <tr>\n",
       "      <th>19</th>\n",
       "      <td>KOLKATA</td>\n",
       "      <td>9797</td>\n",
       "    </tr>\n",
       "  </tbody>\n",
       "</table>\n",
       "</div>"
      ],
      "text/plain": [
       "             DISTRICT  Total_Crimes\n",
       "0         MURSHIDABAD         27004\n",
       "1   24 PARGANAS SOUTH         25115\n",
       "2   24 PARGANAS NORTH         24376\n",
       "3      HYDERABAD CITY         19685\n",
       "4               NADIA         17582\n",
       "5          KARIMNAGAR         16110\n",
       "6           CYBERABAD         15411\n",
       "7    AHMEDABAD COMMR.         14973\n",
       "8       WEST GODAVARI         14299\n",
       "9             LUCKNOW         12679\n",
       "10             GUNTUR         12390\n",
       "11         JALPAIGURI         12073\n",
       "12               WEST         10971\n",
       "13       KANPUR NAGAR         10904\n",
       "14            KRISHNA         10742\n",
       "15            KHAMMAM         10518\n",
       "16             INDORE         10392\n",
       "17             NAGAON         10191\n",
       "18            KURNOOL          9850\n",
       "19            KOLKATA          9797"
      ]
     },
     "execution_count": 19,
     "metadata": {},
     "output_type": "execute_result"
    }
   ],
   "source": [
    "Total_Crimes_by_District_and_UT = pd.DataFrame(CAW_df.groupby(['DISTRICT'])['Total_Crimes'].sum()) \n",
    "#Total_Crimes_by_States_and_UT.columns = ['Count']\n",
    "Total_Crimes_by_District_and_UT.sort_values(by='Total_Crimes',ascending=False,inplace=True)\n",
    "Total_Crimes_by_District_and_UT = Total_Crimes_by_District_and_UT.reset_index()\n",
    "Total_Crimes_by_District_and_UT_Top_20 = Total_Crimes_by_District_and_UT.head(20)\n",
    "Total_Crimes_by_District_and_UT_Top_20"
   ]
  },
  {
   "cell_type": "markdown",
   "metadata": {},
   "source": [
    "### 5.05 Top 20 Total Crimes in each District Plot <a class = \"anchor\" id = \"section505\"></a>"
   ]
  },
  {
   "cell_type": "code",
   "execution_count": 20,
   "metadata": {},
   "outputs": [
    {
     "data": {
      "image/png": "[encoded data removed]",
      "text/plain": [
       "<Figure size 1000x1000 with 1 Axes>"
      ]
     },
     "metadata": {},
     "output_type": "display_data"
    }
   ],
   "source": [
    "Total_Crimes_by_District_and_UT = pd.DataFrame(CAW_df.groupby(['DISTRICT'])['Total_Crimes'].sum()) \n",
    "#Total_Crimes_by_States_and_UT.columns = ['Count']\n",
    "Total_Crimes_by_District_and_UT.sort_values(by='Total_Crimes',ascending=False,inplace=True)\n",
    "Total_Crimes_by_District_and_UT = Total_Crimes_by_District_and_UT.reset_index()\n",
    "Total_Crimes_by_District_and_UT_Top_20 = Total_Crimes_by_District_and_UT.head(20)\n",
    "#Total_Crimes_by_District_and_UT_Top_20\n",
    "plt.figure(figsize = (10,10))\n",
    "plt.scatter(Total_Crimes_by_District_and_UT_Top_20['DISTRICT'],Total_Crimes_by_District_and_UT_Top_20['Total_Crimes'])\n",
    "plt.xticks(rotation = 90)\n",
    "plt.title(s='Top 20 Total Crimes in each District')\n",
    "plt.xlabel('DISTRICT', fontsize=18)\n",
    "plt.ylabel('Total Crimes', fontsize=16)\n",
    "labels = Total_Crimes_by_District_and_UT_Top_20['DISTRICT']\n",
    "for i, v in enumerate(labels):\n",
    "    #print(i,v)\n",
    "    plt.axes().text(v,Total_Crimes_by_District_and_UT_Top_20['Total_Crimes'][i]+2000, Total_Crimes_by_District_and_UT_Top_20['Total_Crimes'][i], fontsize=12, rotation = 90)\n",
    "plt.show()"
   ]
  },
  {
   "cell_type": "markdown",
   "metadata": {},
   "source": [
    "From the Above Graph we can see that __MURSHIDABAD__ has Highest Crimes Against Women followed by __24 PARGANAS SOUTH__ between __2001-2012__."
   ]
  },
  {
   "cell_type": "markdown",
   "metadata": {},
   "source": [
    "### 5.06 Total Crime Trend Between 2001 and 2012 <a class = \"anchor\" id = \"section506\"></a>"
   ]
  },
  {
   "cell_type": "code",
   "execution_count": 21,
   "metadata": {},
   "outputs": [
    {
     "data": {
      "text/html": [
       "<div>\n",
       "<style scoped>\n",
       "    .dataframe tbody tr th:only-of-type {\n",
       "        vertical-align: middle;\n",
       "    }\n",
       "\n",
       "    .dataframe tbody tr th {\n",
       "        vertical-align: top;\n",
       "    }\n",
       "\n",
       "    .dataframe thead th {\n",
       "        text-align: right;\n",
       "    }\n",
       "</style>\n",
       "<table border=\"1\" class=\"dataframe\">\n",
       "  <thead>\n",
       "    <tr style=\"text-align: right;\">\n",
       "      <th></th>\n",
       "      <th>Total_Crimes</th>\n",
       "    </tr>\n",
       "    <tr>\n",
       "      <th>Year</th>\n",
       "      <th></th>\n",
       "    </tr>\n",
       "  </thead>\n",
       "  <tbody>\n",
       "    <tr>\n",
       "      <th>2001</th>\n",
       "      <td>130725</td>\n",
       "    </tr>\n",
       "    <tr>\n",
       "      <th>2002</th>\n",
       "      <td>131112</td>\n",
       "    </tr>\n",
       "    <tr>\n",
       "      <th>2003</th>\n",
       "      <td>131364</td>\n",
       "    </tr>\n",
       "    <tr>\n",
       "      <th>2004</th>\n",
       "      <td>143615</td>\n",
       "    </tr>\n",
       "    <tr>\n",
       "      <th>2005</th>\n",
       "      <td>143523</td>\n",
       "    </tr>\n",
       "    <tr>\n",
       "      <th>2006</th>\n",
       "      <td>154158</td>\n",
       "    </tr>\n",
       "    <tr>\n",
       "      <th>2007</th>\n",
       "      <td>174921</td>\n",
       "    </tr>\n",
       "    <tr>\n",
       "      <th>2008</th>\n",
       "      <td>186616</td>\n",
       "    </tr>\n",
       "    <tr>\n",
       "      <th>2009</th>\n",
       "      <td>194835</td>\n",
       "    </tr>\n",
       "    <tr>\n",
       "      <th>2010</th>\n",
       "      <td>205009</td>\n",
       "    </tr>\n",
       "    <tr>\n",
       "      <th>2011</th>\n",
       "      <td>219142</td>\n",
       "    </tr>\n",
       "    <tr>\n",
       "      <th>2012</th>\n",
       "      <td>232528</td>\n",
       "    </tr>\n",
       "  </tbody>\n",
       "</table>\n",
       "</div>"
      ],
      "text/plain": [
       "      Total_Crimes\n",
       "Year              \n",
       "2001        130725\n",
       "2002        131112\n",
       "2003        131364\n",
       "2004        143615\n",
       "2005        143523\n",
       "2006        154158\n",
       "2007        174921\n",
       "2008        186616\n",
       "2009        194835\n",
       "2010        205009\n",
       "2011        219142\n",
       "2012        232528"
      ]
     },
     "execution_count": 21,
     "metadata": {},
     "output_type": "execute_result"
    }
   ],
   "source": [
    "Total_Crimes_by_States_Trend = pd.DataFrame(CAW_df.groupby(['Year'])['Total_Crimes'].sum())\n",
    "#sns.scatterplot(x=Total_Crimes_by_States_and_UT_and_Districts_By_Year.index,y='Total_Crimes',data = Total_Crimes_by_States_and_UT_and_Districts_By_Year)\n",
    "Total_Crimes_by_States_Trend"
   ]
  },
  {
   "cell_type": "markdown",
   "metadata": {},
   "source": [
    "### 5.07 Total Crime Trend Between 2001 and 2012 Plot <a class = \"anchor\" id = \"section507\"></a>"
   ]
  },
  {
   "cell_type": "code",
   "execution_count": 22,
   "metadata": {},
   "outputs": [
    {
     "ename": "NameError",
     "evalue": "name 'Total_Crimes_by_Year_and_UT' is not defined",
     "output_type": "error",
     "traceback": [
      "\u001b[1;31m---------------------------------------------------------------------------\u001b[0m",
      "\u001b[1;31mNameError\u001b[0m                                 Traceback (most recent call last)",
      "\u001b[1;32m<ipython-input-22-8551ee3a7415>\u001b[0m in \u001b[0;36m<module>\u001b[1;34m()\u001b[0m\n\u001b[0;32m      1\u001b[0m \u001b[0mplt\u001b[0m\u001b[1;33m.\u001b[0m\u001b[0mfigure\u001b[0m\u001b[1;33m(\u001b[0m\u001b[0mfigsize\u001b[0m \u001b[1;33m=\u001b[0m \u001b[1;33m(\u001b[0m\u001b[1;36m20\u001b[0m\u001b[1;33m,\u001b[0m\u001b[1;36m20\u001b[0m\u001b[1;33m)\u001b[0m\u001b[1;33m)\u001b[0m\u001b[1;33m\u001b[0m\u001b[0m\n\u001b[1;32m----> 2\u001b[1;33m \u001b[0msns\u001b[0m\u001b[1;33m.\u001b[0m\u001b[0mlineplot\u001b[0m\u001b[1;33m(\u001b[0m\u001b[0mTotal_Crimes_by_Year_and_UT\u001b[0m\u001b[1;33m[\u001b[0m\u001b[1;34m'Year'\u001b[0m\u001b[1;33m]\u001b[0m\u001b[1;33m,\u001b[0m\u001b[0mTotal_Crimes_by_Year_and_UT\u001b[0m\u001b[1;33m[\u001b[0m\u001b[1;34m'Total_Crimes'\u001b[0m\u001b[1;33m]\u001b[0m\u001b[1;33m)\u001b[0m\u001b[1;33m\u001b[0m\u001b[0m\n\u001b[0m\u001b[0;32m      3\u001b[0m \u001b[0mplt\u001b[0m\u001b[1;33m.\u001b[0m\u001b[0mxticks\u001b[0m\u001b[1;33m(\u001b[0m\u001b[0mrotation\u001b[0m \u001b[1;33m=\u001b[0m \u001b[1;36m90\u001b[0m\u001b[1;33m)\u001b[0m\u001b[1;33m\u001b[0m\u001b[0m\n\u001b[0;32m      4\u001b[0m \u001b[0mplt\u001b[0m\u001b[1;33m.\u001b[0m\u001b[0mtitle\u001b[0m\u001b[1;33m(\u001b[0m\u001b[0ms\u001b[0m\u001b[1;33m=\u001b[0m\u001b[1;34m'Total Crime Trend Between 2001 and 2012'\u001b[0m\u001b[1;33m,\u001b[0m\u001b[0mfontsize\u001b[0m\u001b[1;33m=\u001b[0m\u001b[1;33m(\u001b[0m\u001b[1;36m20\u001b[0m\u001b[1;33m)\u001b[0m\u001b[1;33m)\u001b[0m\u001b[1;33m\u001b[0m\u001b[0m\n\u001b[0;32m      5\u001b[0m \u001b[0mplt\u001b[0m\u001b[1;33m.\u001b[0m\u001b[0mxlabel\u001b[0m\u001b[1;33m(\u001b[0m\u001b[1;34m'Year'\u001b[0m\u001b[1;33m,\u001b[0m \u001b[0mfontsize\u001b[0m\u001b[1;33m=\u001b[0m\u001b[1;36m18\u001b[0m\u001b[1;33m)\u001b[0m\u001b[1;33m\u001b[0m\u001b[0m\n",
      "\u001b[1;31mNameError\u001b[0m: name 'Total_Crimes_by_Year_and_UT' is not defined"
     ]
    },
    {
     "data": {
      "text/plain": [
       "<Figure size 2000x2000 with 0 Axes>"
      ]
     },
     "metadata": {},
     "output_type": "display_data"
    }
   ],
   "source": [
    "plt.figure(figsize = (20,20))\n",
    "sns.lineplot(Total_Crimes_by_Year_and_UT['Year'],Total_Crimes_by_Year_and_UT['Total_Crimes'])\n",
    "plt.xticks(rotation = 90)\n",
    "plt.title(s='Total Crime Trend Between 2001 and 2012',fontsize=(20))\n",
    "plt.xlabel('Year', fontsize=18)\n",
    "plt.ylabel('Total Crimes', fontsize=16)\n",
    "labels = Total_Crimes_by_Year_and_UT['Year']\n",
    "for i, v in enumerate(labels):\n",
    "    plt.axes().text(v,Total_Crimes_by_Year_and_UT['Total_Crimes'][i]+4000, Total_Crimes_by_Year_and_UT['Total_Crimes'][i], fontsize=12, rotation = 90)\n",
    "plt.show()"
   ]
  },
  {
   "cell_type": "markdown",
   "metadata": {},
   "source": [
    "From the bove plot we can see that there has been a gradual increase in __Crimes Against Women with negligible change between 2001-2003__ and __2004-2005__."
   ]
  },
  {
   "cell_type": "markdown",
   "metadata": {},
   "source": [
    "### 5.08 Max Crime for a State and the Year <a class = \"anchor\" id = \"section508\"></a>"
   ]
  },
  {
   "cell_type": "code",
   "execution_count": null,
   "metadata": {},
   "outputs": [],
   "source": [
    "df3 = pd.DataFrame(columns = ['State/UT','Year','Total_Crimes'])\n",
    "g2 = CAW_df.groupby(['STATE/UT'])\n",
    "for id, group in g2:\n",
    "    l = []\n",
    "    l.append(id)\n",
    "    a = (group[group['Total_Crimes']==group['Total_Crimes'].max()][['Year','Total_Crimes']]).values\n",
    "    b = list(a)[0][0]\n",
    "    c = list(a)[0][1]\n",
    "    l.append(b)\n",
    "    l.append(c)\n",
    "    df3 = df3.append({'State/UT':l[0],'Year':l[1],'Total_Crimes':l[2]},ignore_index = True)\n",
    "df3"
   ]
  },
  {
   "cell_type": "markdown",
   "metadata": {},
   "source": [
    "### 5.09 Max Crime for a State and the Year Plot <a class = \"anchor\" id = \"section509\"></a>"
   ]
  },
  {
   "cell_type": "code",
   "execution_count": null,
   "metadata": {},
   "outputs": [],
   "source": [
    "df3.plot(x = 'State/UT',y = 'Total_Crimes',kind = 'bar',figsize=(20,20))\n",
    "labels = df3.Total_Crimes\n",
    "for i, v in enumerate(labels):\n",
    "    plt.axes().text(i-.25, v+300, labels[i], fontsize=12, rotation = 90)\n",
    "labelss = df3.Year    \n",
    "for i, v in enumerate(labels):\n",
    "    plt.axes().text(i-.25, v+100, labelss[i], fontsize=12, rotation = 90)"
   ]
  },
  {
   "cell_type": "markdown",
   "metadata": {},
   "source": [
    "We can see from the above plot that __WEST BENGAL__ has the highest crime rate in 2011 followed by __ANDHRA PRADESH__ in 2010."
   ]
  },
  {
   "cell_type": "markdown",
   "metadata": {},
   "source": [
    "### 5.10 Top 10 Crime Count per District and the Year <a class = \"anchor\" id = \"section510\"></a>"
   ]
  },
  {
   "cell_type": "code",
   "execution_count": null,
   "metadata": {},
   "outputs": [],
   "source": [
    "df4 = pd.DataFrame(columns = ['STATE/UT - DISTRICT','Year','Total_Crimes'])\n",
    "g2 = CAW_df.groupby(['STATE/UT','DISTRICT'])\n",
    "for id, group in g2:\n",
    "    l = []\n",
    "    l.append(id)\n",
    "    a = (group[group['Total_Crimes']==group['Total_Crimes'].max()][['Year','Total_Crimes']]).values\n",
    "    b = list(a)[0][0]\n",
    "    c = list(a)[0][1]\n",
    "    l.append(b)\n",
    "    l.append(c)\n",
    "    #print(l)\n",
    "    df4 = df4.append({'STATE/UT - DISTRICT':l[0],'Year':l[1],'Total_Crimes':l[2]},ignore_index = True)\n",
    "df4.sort_values(by=['Total_Crimes'],ascending=[False],inplace=True)\n",
    "df4.head(10).reset_index()\n"
   ]
  },
  {
   "cell_type": "markdown",
   "metadata": {},
   "source": [
    "### 5.11 Top 10 Crime Count per District and the Year Plot <a class = \"anchor\" id = \"section511\"></a>"
   ]
  },
  {
   "cell_type": "code",
   "execution_count": null,
   "metadata": {},
   "outputs": [],
   "source": [
    "#df4\n",
    "df4.sort_values(by=['Total_Crimes'],ascending=False,inplace=True)\n",
    "df4_Plot = df4.head(10).reset_index()\n",
    "#df4_Plot\n",
    "df4_Plot.plot(x = 'STATE/UT - DISTRICT',y = 'Total_Crimes',kind = 'bar',figsize=(20,20))\n",
    "\n",
    "labels = df4_Plot.Total_Crimes\n",
    "for i, v in enumerate(labels):\n",
    "    plt.axes().text(i-.25, v+300, labels[i], fontsize=12, rotation = 90)\n",
    "labelss = df4_Plot.Year    \n",
    "for i, v in enumerate(labels):\n",
    "    plt.axes().text(i-.25, v+100, labelss[i], fontsize=12, rotation = 90)\n",
    "\n",
    "plt.show()"
   ]
  },
  {
   "cell_type": "markdown",
   "metadata": {},
   "source": [
    "From the Above Graph we can see that __MURSHIDABAD__ has Highest Crimes Against Women in 2011 followed by __24 PARGANAS SOUTH__ in the same year."
   ]
  },
  {
   "cell_type": "markdown",
   "metadata": {},
   "source": [
    "### 5.12  100 Districts with Lowest Crimes <a class = \"anchor\" id = \"section512\"></a>"
   ]
  },
  {
   "cell_type": "code",
   "execution_count": null,
   "metadata": {},
   "outputs": [],
   "source": [
    "df5 = pd.DataFrame(columns = ['STATE/UT - DISTRICT','Year','Total_Crimes'])\n",
    "g2 = CAW_df.groupby(['STATE/UT','DISTRICT'])\n",
    "for id, group in g2:\n",
    "    l = []\n",
    "    l.append(id)\n",
    "    a = (group[group['Total_Crimes']==group['Total_Crimes'].min()][['Year','Total_Crimes']]).values\n",
    "    b = list(a)[0][0]\n",
    "    c = list(a)[0][1]\n",
    "    l.append(b)\n",
    "    l.append(c)\n",
    "    #print(l)\n",
    "    df5 = df5.append({'STATE/UT - DISTRICT':l[0],'Year':l[1],'Total_Crimes':l[2]},ignore_index = True)\n",
    "df5.sort_values(by='Year',ascending=True,inplace=True)\n",
    "df5.sort_values(by=['Total_Crimes'],ascending=[True],inplace=True)\n",
    "df5.head(10)"
   ]
  },
  {
   "cell_type": "markdown",
   "metadata": {},
   "source": [
    "### 5.13 100 Districts with Lowest Crimes Plot <a class = \"anchor\" id = \"section513\"></a>"
   ]
  },
  {
   "cell_type": "code",
   "execution_count": null,
   "metadata": {},
   "outputs": [],
   "source": [
    "#df4\n",
    "df5.sort_values(by=['Total_Crimes'],ascending=True,inplace=True)\n",
    "df5_Plot = df5.head(100).reset_index()\n",
    "df5_Plot\n",
    "df5_Plot.plot(x = 'STATE/UT - DISTRICT',y = 'Total_Crimes',kind = 'bar',figsize=(20,20))\n",
    "plt.show()"
   ]
  },
  {
   "cell_type": "markdown",
   "metadata": {},
   "source": [
    "### 5.14 Total Crimes by State and Year-wise <a class = \"anchor\" id = \"section514\"></a>"
   ]
  },
  {
   "cell_type": "code",
   "execution_count": null,
   "metadata": {},
   "outputs": [],
   "source": [
    "#df3 = pd.DataFrame(columns = ['State/UT','Year','Total_Crimes'])\n",
    "df3 = CAW_df.groupby(['STATE/UT','Year'])['Total_Crimes'].sum()\n",
    "df3.sort_values(ascending=False,inplace=True)\n",
    "df3.reset_index()"
   ]
  },
  {
   "cell_type": "markdown",
   "metadata": {},
   "source": [
    "### 5.15 Total Crimes by State and Year-wise Plot <a class = \"anchor\" id = \"section515\"></a>"
   ]
  },
  {
   "cell_type": "code",
   "execution_count": null,
   "metadata": {},
   "outputs": [],
   "source": [
    "sns.scatterplot(data=df3.reset_index(),hue='STATE/UT',x='Year',y='Total_Crimes',palette='tab20c_r')\n",
    "plt.xticks(rotation=90)\n",
    "plt.figure(figsize=(30,30))\n",
    "plt.show()\n",
    "plt.rcParams['figure.figsize'] = 20, 20\n",
    "plt.show()"
   ]
  },
  {
   "cell_type": "markdown",
   "metadata": {},
   "source": [
    "From the above plot we can see that the highest crime state is West Bengal in 2012 and the lowest crime state is Lakshadweep in 2006.  "
   ]
  },
  {
   "cell_type": "markdown",
   "metadata": {},
   "source": [
    "### 5.16 Types of Crimes Year-wise <a class = \"anchor\" id = \"section516\"></a>"
   ]
  },
  {
   "cell_type": "code",
   "execution_count": null,
   "metadata": {},
   "outputs": [],
   "source": [
    "total = CAW_df.groupby(['Year'])['Total_Crimes','Rape','Kidnapping and Abduction','Dowry Deaths',\\\n",
    "              'Assault on women with intent to outrage her modesty','Insult to modesty of Women',\\\n",
    "              'Cruelty by Husband or his Relatives','Importation of Girls'].sum()\n",
    "total"
   ]
  },
  {
   "cell_type": "markdown",
   "metadata": {},
   "source": [
    "### 5.17 Types of Crimes Year-wise Plot <a class = \"anchor\" id = \"section517\"></a>"
   ]
  },
  {
   "cell_type": "code",
   "execution_count": null,
   "metadata": {},
   "outputs": [],
   "source": [
    "Perc_2001_S = total.iloc[0,:]\n",
    "Perc_2001_TC = total.iloc[0,0]\n",
    "Perc_2001 = (Perc_2001_S/Perc_2001_TC)*100\n",
    "df = pd.DataFrame(Perc_2001)\n",
    "\n",
    "lst = [i for i in range(1,len(CAW_df['Year'].unique())-1)]\n",
    "for l in lst:\n",
    "    Perc_S = total.iloc[l,:]\n",
    "    Perc_TC = total.iloc[l,0]\n",
    "    Perc = (Perc_S/Perc_TC)*100\n",
    "    #print(Perc)\n",
    "    df = df.join(Perc)\n",
    "df.drop(['Total_Crimes'], axis=0,inplace=True)\n",
    "df=df.T\n",
    "# df.plot(figsize=(20,20))\n",
    "# df\n",
    "# plt.show()\n",
    "df.plot(figsize=(20,20))\n",
    "plt.show()"
   ]
  },
  {
   "cell_type": "markdown",
   "metadata": {},
   "source": [
    "### 5.18 Types of Crimes Year-wise HeatMap <a class = \"anchor\" id = \"section518\"></a>"
   ]
  },
  {
   "cell_type": "code",
   "execution_count": null,
   "metadata": {},
   "outputs": [],
   "source": [
    "Perc_2001_S = total.iloc[0,:]\n",
    "Perc_2001_TC = total.iloc[0,0]\n",
    "Perc_2001 = (Perc_2001_S/Perc_2001_TC)*100\n",
    "df = pd.DataFrame(Perc_2001)\n",
    "lst = [i for i in range(1,len(CAW_df['Year'].unique())-1)]\n",
    "for l in lst:\n",
    "    Perc_S = total.iloc[l,:]\n",
    "    Perc_TC = total.iloc[l,0]\n",
    "    Perc = (Perc_S/Perc_TC)*100\n",
    "    #print(Perc)\n",
    "    df = df.join(Perc)\n",
    "df.drop(['Total_Crimes'], axis=0,inplace=True)\n",
    "Index= df.index.tolist()\n",
    "Cols = df.columns.tolist()\n",
    "df = pd.DataFrame(df, index=Index, columns=Cols)\n",
    "plt.title('Heatmap of Various Crimes Against Women Year Wise')\n",
    "sns.heatmap(df, annot=True, cmap='YlGnBu')\n",
    "plt.show()"
   ]
  },
  {
   "cell_type": "markdown",
   "metadata": {},
   "source": [
    "From above two plots we can see that\n",
    "- __Cruelty by Husband or his Relatives__ show an increasing trend.\n",
    "- __Assault on women with intent to outrage her modesty__ show a decreasing trend\n",
    "- __Kidnapping and Abduction__ decreased till 2003 then it gradually increased\n",
    "- __Insult to modesty of Women__ increased till 2003 then it gradually decreased\n",
    "- __Importation of Girls__ had been constant most of the time\n",
    "\n",
    "The same can be seen in the HeatMap. -- check if you explain something here"
   ]
  },
  {
   "cell_type": "markdown",
   "metadata": {},
   "source": [
    "### 5.19 Types of Crimes State-wise <a class = \"anchor\" id = \"section519\"></a>"
   ]
  },
  {
   "cell_type": "code",
   "execution_count": null,
   "metadata": {},
   "outputs": [],
   "source": [
    "total_state = CAW_df.groupby(['STATE/UT'])['Total_Crimes','Rape','Kidnapping and Abduction','Dowry Deaths',\\\n",
    "              'Assault on women with intent to outrage her modesty','Insult to modesty of Women',\\\n",
    "              'Cruelty by Husband or his Relatives','Importation of Girls'].sum()\n",
    "total_state"
   ]
  },
  {
   "cell_type": "markdown",
   "metadata": {},
   "source": [
    "### 5.20 Types of Crimes State-wise Plot <a class = \"anchor\" id = \"section520\"></a>"
   ]
  },
  {
   "cell_type": "code",
   "execution_count": null,
   "metadata": {},
   "outputs": [],
   "source": [
    "Perc_2001_S = total_state.iloc[0,:]\n",
    "Perc_2001_TC = total_state.iloc[0,0]\n",
    "Perc_2001 = (Perc_2001_S/Perc_2001_TC)*100\n",
    "df_s = pd.DataFrame(Perc_2001)\n",
    "\n",
    "lst = [i for i in range(1,len(CAW_df['STATE/UT'].unique())-1)]\n",
    "for l in lst:\n",
    "    Perc_S = total_state.iloc[l,:]\n",
    "    Perc_TC = total_state.iloc[l,0]\n",
    "    Perc = (Perc_S/Perc_TC)*100\n",
    "    #print(Perc)\n",
    "    df_s = df_s.join(Perc)\n",
    "df_s.drop(['Total_Crimes'], axis=0,inplace=True)\n",
    "plt.plot(figsize=(30,30))\n",
    "df_s = df_s.T\n",
    "plt.title('Plot of Various Crimes Against Women State Wise')\n",
    "plt.xticks(rotation=90)\n",
    "sns.scatterplot(data=df_s,hue=df_s.columns.tolist())\n",
    "plt.rcParams[\"figure.figsize\"] = (15,15)\n",
    "plt.show()"
   ]
  },
  {
   "cell_type": "markdown",
   "metadata": {},
   "source": [
    "### 5.21 Types of Crimes State-wise HeatMap <a class = \"anchor\" id = \"section521\"></a>"
   ]
  },
  {
   "cell_type": "code",
   "execution_count": null,
   "metadata": {},
   "outputs": [],
   "source": [
    "Perc_2001_S = total_state.iloc[0,:]\n",
    "Perc_2001_TC = total_state.iloc[0,0]\n",
    "Perc_2001 = (Perc_2001_S/Perc_2001_TC)*100\n",
    "df_hm = pd.DataFrame(Perc_2001)\n",
    "#print(len(CAW_df['STATE/UT'].unique()))\n",
    "lst = [i for i in range(1,len(CAW_df['STATE/UT'].unique())-1)]\n",
    "for l in lst:\n",
    "    Perc_S = total_state.iloc[l,:]\n",
    "    Perc_TC = total_state.iloc[l,0]\n",
    "    Perc = (Perc_S/Perc_TC)*100\n",
    "    #print(Perc)\n",
    "    df_hm = df_hm.join(Perc)\n",
    "\n",
    "df_hm.drop(['Total_Crimes'], axis=0,inplace=True)\n",
    "df_hm = df_hm.T\n",
    "Index= df_hm.index.tolist()\n",
    "Cols = df_hm.columns.tolist()\n",
    "df_hm = pd.DataFrame(df_hm, index=Index, columns=Cols)\n",
    "plt.title('Heatmap of Various Crimes Against Women Year Wise')\n",
    "sns.heatmap(df_hm, annot=True, cmap='YlGnBu')\n",
    "plt.figure(figsize=(30,30))\n",
    "plt.show()\n",
    "plt.rcParams[\"figure.figsize\"] = (20,3)\n",
    "plt.show()"
   ]
  },
  {
   "cell_type": "markdown",
   "metadata": {},
   "source": [
    "From above two plots we can see that\n",
    "- __Cruelty by Husband or his Relatives__ is mostly higher for most of the states.\n",
    "- __Rape__ dominates in three States.\n",
    "- __Importation of Girls__ is lowest in most of the states."
   ]
  },
  {
   "cell_type": "markdown",
   "metadata": {},
   "source": [
    "### 5.22 Types of Crimes District-wise <a class = \"anchor\" id = \"section522\"></a>"
   ]
  },
  {
   "cell_type": "code",
   "execution_count": null,
   "metadata": {},
   "outputs": [],
   "source": [
    "total_district = CAW_df.groupby(['DISTRICT'])['Total_Crimes','Rape','Kidnapping and Abduction','Dowry Deaths',\\\n",
    "              'Assault on women with intent to outrage her modesty','Insult to modesty of Women',\\\n",
    "              'Cruelty by Husband or his Relatives','Importation of Girls'].sum()\n",
    "total_district.sort_values(by='Total_Crimes',ascending=False,inplace=True)\n",
    "total_district"
   ]
  },
  {
   "cell_type": "markdown",
   "metadata": {},
   "source": [
    "### 5.23 Types of Crime District-wise Plot <a class = \"anchor\" id = \"section523\"></a>"
   ]
  },
  {
   "cell_type": "code",
   "execution_count": null,
   "metadata": {},
   "outputs": [],
   "source": [
    "Perc_2001_S = total_district.iloc[0,:]\n",
    "Perc_2001_TC = total_district.iloc[0,0]\n",
    "Perc_2001 = (Perc_2001_S/Perc_2001_TC)*100\n",
    "df_d = pd.DataFrame(Perc_2001)\n",
    "\n",
    "lst = [i for i in range(1,len(CAW_df['DISTRICT'].unique())-1)]\n",
    "for l in lst:\n",
    "    Perc_S = total_district.iloc[l,:]\n",
    "    Perc_TC = total_district.iloc[l,0]\n",
    "    Perc = (Perc_S/Perc_TC)*100\n",
    "    #print(Perc)\n",
    "    df_d = df_d.join(Perc)\n",
    "df_d.drop(['Total_Crimes'], axis=0,inplace=True)\n",
    "#df_d\n",
    "df_d = df_d.T.head(30)\n",
    "plt.title('Types of Crimes Against Women District-Wise')\n",
    "plt.xticks(rotation=45)\n",
    "sns.scatterplot(data=df_d,hue=df_d.columns.tolist())\n",
    "plt.show()"
   ]
  },
  {
   "cell_type": "markdown",
   "metadata": {},
   "source": [
    "### 5.24 Types of Crimes District-wise HeatMap<a class = \"anchor\" id = \"section524\"></a>"
   ]
  },
  {
   "cell_type": "code",
   "execution_count": null,
   "metadata": {
    "scrolled": true
   },
   "outputs": [],
   "source": [
    "Perc_2001_S = total_district.iloc[0,:]\n",
    "Perc_2001_TC = total_district.iloc[0,0]\n",
    "Perc_2001 = (Perc_2001_S/Perc_2001_TC)*100\n",
    "df_hm_d = pd.DataFrame(Perc_2001)\n",
    "#print(len(CAW_df['STATE/UT'].unique()))\n",
    "lst = [i for i in range(1,len(CAW_df['DISTRICT'].unique())-1)]\n",
    "for l in lst:\n",
    "    Perc_S = total_district.iloc[l,:]\n",
    "    Perc_TC = total_district.iloc[l,0]\n",
    "    Perc = (Perc_S/Perc_TC)*100\n",
    "    #print(Perc)\n",
    "    df_hm_d = df_hm_d.join(Perc)\n",
    "\n",
    "df_hm_d.drop(['Total_Crimes'], axis=0,inplace=True)\n",
    "df_hm_d = df_hm_d.T.head(30)\n",
    "Index= df_hm_d.index.tolist()\n",
    "Cols = df_hm_d.columns.tolist()\n",
    "df_hm_dd = pd.DataFrame(df_hm_d, index=Index, columns=Cols)\n",
    "plt.title('Heatmap of Types of Crimes Against Women District-wise')\n",
    "sns.heatmap(df_hm_dd, annot=True, cmap='coolwarm')\n",
    "plt.figure(figsize=(30,30))\n",
    "plt.rcParams[\"figure.figsize\"] = (15,15)\n",
    "plt.show()"
   ]
  },
  {
   "cell_type": "markdown",
   "metadata": {},
   "source": [
    "From the above two plots we can see that __Rape__,__Dowry Deaths__ and __Insult to Modesty of Women__ show similar trend for sample of Districts, with __Cruelty by Husband or his Relatives__ being higher in the set."
   ]
  },
  {
   "cell_type": "markdown",
   "metadata": {},
   "source": [
    "### 5.25 Top 30 Max and Min Crimes Count for Year per State and District<a class = \"anchor\" id = \"section525\"></a>"
   ]
  },
  {
   "cell_type": "code",
   "execution_count": null,
   "metadata": {},
   "outputs": [],
   "source": [
    "df5 = pd.DataFrame(columns = ['STATE/UT - DISTRICT','Year','Max','Min'])\n",
    "g2 = CAW_df.groupby(['STATE/UT','DISTRICT'])\n",
    "for id, group in g2:\n",
    "    l = []\n",
    "    l.append(id)\n",
    "    a_max = (group[group['Total_Crimes']==group['Total_Crimes'].max()][['Year','Total_Crimes']]).values\n",
    "    a_min = (group[group['Total_Crimes']==group['Total_Crimes'].min()][['Year','Total_Crimes']]).values\n",
    "    b = list(a_max)[0][0]\n",
    "    c = list(a_max)[0][1]\n",
    "    d = list(a_min)[0][1]\n",
    "    l.append(b)\n",
    "    l.append(c)\n",
    "    l.append(d)\n",
    "    #print(l)\n",
    "    df5 = df5.append({'STATE/UT - DISTRICT':l[0],'Year':l[1],'Max':l[2],'Min':l[3]},ignore_index = True)\n",
    "df5.sort_values(by='Max',ascending=False,inplace=True)\n",
    "df5.head(30).reset_index()"
   ]
  },
  {
   "cell_type": "markdown",
   "metadata": {},
   "source": [
    "### 5.26 Top 30 Max and Min Crimes Count for Year per State and District Plot<a class = \"anchor\" id = \"section526\"></a>"
   ]
  },
  {
   "cell_type": "code",
   "execution_count": null,
   "metadata": {
    "scrolled": true
   },
   "outputs": [],
   "source": [
    "barWidth = 0.25\n",
    "\n",
    "bars1 = df5.Max[:30]\n",
    "bars2 = df5.Min[:30]\n",
    "\n",
    "r1 = np.arange(len(bars1))\n",
    "r2 = [x + barWidth for x in r1]\n",
    "\n",
    "plt.figure(figsize = (20,20))\n",
    "\n",
    "plt.bar(r1, bars1, color='#7f6d5f', width=barWidth, edgecolor='white', label='Max')\n",
    "plt.bar(r2, bars2, color='#557f2d', width=barWidth, edgecolor='white', label='Min')\n",
    "\n",
    "plt.xlabel('State - District', fontweight='bold')\n",
    "plt.ylabel('(Max - Min) Values', fontweight='bold')\n",
    "plt.xticks([r + barWidth for r in range(len(bars1))], df5['STATE/UT - DISTRICT'],rotation = 90)\n",
    "\n",
    "plt.legend()\n",
    "plt.show()"
   ]
  },
  {
   "cell_type": "markdown",
   "metadata": {},
   "source": [
    "From the above plot we can see that __3 of West Bengal's Districts__ show higher rates of crime from the selected sample"
   ]
  },
  {
   "cell_type": "markdown",
   "metadata": {},
   "source": [
    "### 6. Conclusion <a class = \"anchor\" id =  \"section600\"></a>"
   ]
  },
  {
   "cell_type": "markdown",
   "metadata": {},
   "source": [
    "From the above analysis we can conclude that\n",
    "- Highest Crimes against women occurred in ANDHRA PRADESH between 2001 and 2012.\n",
    "- Lowest Crimes against women occurred in LAKSHADWEEP between 2001 and 2012.\n",
    "- There has been a gradual increase in Crimes Against Women with negligible change between 2001-2003 and 2004-2005.\n",
    "- WEST BENGAL has the highest crime rate in 2011 followed by ANDHRA PRADESH in 2010.\n",
    "- MURSHIDABAD has Highest Crimes Against Women in 2011 followed by 24 PARGANAS SOUTH in the same year.\n",
    "- Highest crime state is West Bengal in 2012 and the lowest crime state is Lakshadweep in 2006.\n",
    "- __Cruelty by Husband or his Relatives__ show an increasing trend.\n",
    "- __Assault on women with intent to outrage her modesty__ show a decreasing trend.\n",
    "- __Kidnapping and Abduction__ decreased till 2003 then it gradually increased\n",
    "- __Insult to modesty of Women__ increased till 2003 then it gradually decreased\n",
    "- __Importation of Girls__ had been constant most of the time\n",
    "- __Cruelty by Husband or his Relatives__ is mostly higher for most of the states.\n",
    "- __Rape__ dominates in three States namely Nagaland, Meghalaya and Mizoram.\n",
    "- __Importation of Girls__ is lowest in most of the states. \n",
    "- __Rape, Dowry Deaths and Insult to Modesty of Women__ show a similar trend for a sample of Districts, with __Cruelty by Husband or his Relatives__ being higher in the set.\n",
    "- 3 of West Bengal's Districts show higher rates of crime."
   ]
  }
 ],
 "metadata": {
  "kernelspec": {
   "display_name": "Python 3",
   "language": "python",
   "name": "python3"
  },
  "language_info": {
   "codemirror_mode": {
    "name": "ipython",
    "version": 3
   },
   "file_extension": ".py",
   "mimetype": "text/x-python",
   "name": "python",
   "nbconvert_exporter": "python",
   "pygments_lexer": "ipython3",
   "version": "3.7.0"
  }
 },
 "nbformat": 4,
 "nbformat_minor": 2
}
